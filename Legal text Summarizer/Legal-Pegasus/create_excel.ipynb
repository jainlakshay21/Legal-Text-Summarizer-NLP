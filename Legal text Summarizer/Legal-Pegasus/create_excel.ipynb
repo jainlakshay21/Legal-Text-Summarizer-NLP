{
 "cells": [
  {
   "cell_type": "code",
   "execution_count": 3,
   "metadata": {},
   "outputs": [
    {
     "name": "stdout",
     "output_type": "stream",
     "text": [
      "Dataset created at /Users/lakke21/Downloads/summarization-aacl/abstractive/Legal-Pegasus/exceldataset.xlsx\n"
     ]
    }
   ],
   "source": [
    "import os\n",
    "import pandas as pd\n",
    "\n",
    "# Paths to the directories\n",
    "folder1 = '/Users/lakke21/Downloads/dataset/IN-Abs/test-data/judgement'\n",
    "folder2 = '/Users/lakke21/Downloads/dataset/IN-Abs/test-data/summary'\n",
    "\n",
    "# List of file names from both folders (assuming they have the same file names)\n",
    "files1 = os.listdir(folder1)\n",
    "files2 = os.listdir(folder2)\n",
    "\n",
    "# Check if each file from folder1 exists in folder2 and read their contents\n",
    "data = []\n",
    "for file_name in files1:\n",
    "    if file_name in files2:\n",
    "        with open(os.path.join(folder1, file_name), 'r', encoding='utf-8') as file1, \\\n",
    "             open(os.path.join(folder2, file_name), 'r', encoding='utf-8') as file2:\n",
    "            content1 = file1.read()\n",
    "            content2 = file2.read()\n",
    "            data.append({'source': content1, 'target': content2})\n",
    "\n",
    "# Create a DataFrame\n",
    "df = pd.DataFrame(data)\n",
    "\n",
    "# Define the path for the new Excel file\n",
    "excel_path = '/Users/lakke21/Downloads/summarization-aacl/abstractive/Legal-Pegasus/exceldataset.xlsx'\n",
    "\n",
    "# Write the DataFrame to an Excel file\n",
    "df.to_excel(excel_path, index=False, engine='openpyxl')\n",
    "\n",
    "print(f\"Dataset created at {excel_path}\")\n"
   ]
  }
 ],
 "metadata": {
  "kernelspec": {
   "display_name": "Python 3",
   "language": "python",
   "name": "python3"
  },
  "language_info": {
   "codemirror_mode": {
    "name": "ipython",
    "version": 3
   },
   "file_extension": ".py",
   "mimetype": "text/x-python",
   "name": "python",
   "nbconvert_exporter": "python",
   "pygments_lexer": "ipython3",
   "version": "3.11.6"
  }
 },
 "nbformat": 4,
 "nbformat_minor": 2
}
